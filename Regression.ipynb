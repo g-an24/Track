{
  "nbformat": 4,
  "nbformat_minor": 0,
  "metadata": {
    "colab": {
      "name": "Regression.ipynb",
      "provenance": []
    },
    "kernelspec": {
      "name": "python3",
      "display_name": "Python 3"
    }
  },
  "cells": [
    {
      "cell_type": "code",
      "metadata": {
        "id": "IWh5slQmpPA8",
        "colab_type": "code",
        "colab": {}
      },
      "source": [
        "import numpy as np\n",
        "import matplotlib.pyplot as plt\n",
        "from keras.models import Sequential\n",
        "from keras.layers import Dense\n",
        "from keras.optimizers import Adam"
      ],
      "execution_count": 0,
      "outputs": []
    },
    {
      "cell_type": "code",
      "metadata": {
        "id": "_c3uHbZFporJ",
        "colab_type": "code",
        "colab": {
          "base_uri": "https://localhost:8080/",
          "height": 282
        },
        "outputId": "19e07fba-59ac-465e-c871-2ff667877de5"
      },
      "source": [
        "np.random.seed(0)\n",
        "points = 500\n",
        "X = np.linspace(-3, 3, points)\n",
        "y = np.sin(X) + np.random.uniform(-0.5, 0.5, points)\n",
        "\n",
        "plt.scatter(X, y)\n"
      ],
      "execution_count": 7,
      "outputs": [
        {
          "output_type": "execute_result",
          "data": {
            "text/plain": [
              "<matplotlib.collections.PathCollection at 0x7f21ced2ecc0>"
            ]
          },
          "metadata": {
            "tags": []
          },
          "execution_count": 7
        },
        {
          "output_type": "display_data",
          "data": {
            "image/png": "[encoded data removed]",
            "text/plain": [
              "<Figure size 432x288 with 1 Axes>"
            ]
          },
          "metadata": {
            "tags": []
          }
        }
      ]
    },
    {
      "cell_type": "code",
      "metadata": {
        "id": "z2uevwUcqpi6",
        "colab_type": "code",
        "colab": {
          "base_uri": "https://localhost:8080/",
          "height": 254
        },
        "outputId": "b1a24f0b-a25c-4788-d386-95237399beb9"
      },
      "source": [
        "model = Sequential()\n",
        "model.add(Dense(50,activation = 'sigmoid', input_dim = 1))\n",
        "model.add(Dense(30, activation = 'sigmoid'))\n",
        "model.add(Dense(1))\n",
        "\n"
      ],
      "execution_count": 8,
      "outputs": [
        {
          "output_type": "stream",
          "text": [
            "WARNING:tensorflow:From /usr/local/lib/python3.6/dist-packages/keras/backend/tensorflow_backend.py:66: The name tf.get_default_graph is deprecated. Please use tf.compat.v1.get_default_graph instead.\n",
            "\n",
            "WARNING:tensorflow:From /usr/local/lib/python3.6/dist-packages/keras/backend/tensorflow_backend.py:541: The name tf.placeholder is deprecated. Please use tf.compat.v1.placeholder instead.\n",
            "\n",
            "WARNING:tensorflow:From /usr/local/lib/python3.6/dist-packages/keras/backend/tensorflow_backend.py:4432: The name tf.random_uniform is deprecated. Please use tf.random.uniform instead.\n",
            "\n"
          ],
          "name": "stdout"
        }
      ]
    },
    {
      "cell_type": "code",
      "metadata": {
        "id": "Ewj-oufZr6vw",
        "colab_type": "code",
        "colab": {
          "base_uri": "https://localhost:8080/",
          "height": 1000
        },
        "outputId": "f6d0d4ec-fb43-439b-c139-6580cd8eb00b"
      },
      "source": [
        "adam = Adam(lr = 0.01)\n",
        "model.compile(loss = 'mse', optimizer = adam)\n",
        "model.fit(X, y, epochs = 50)"
      ],
      "execution_count": 9,
      "outputs": [
        {
          "output_type": "stream",
          "text": [
            "WARNING:tensorflow:From /usr/local/lib/python3.6/dist-packages/keras/optimizers.py:793: The name tf.train.Optimizer is deprecated. Please use tf.compat.v1.train.Optimizer instead.\n",
            "\n",
            "WARNING:tensorflow:From /usr/local/lib/python3.6/dist-packages/keras/backend/tensorflow_backend.py:1033: The name tf.assign_add is deprecated. Please use tf.compat.v1.assign_add instead.\n",
            "\n",
            "WARNING:tensorflow:From /usr/local/lib/python3.6/dist-packages/keras/backend/tensorflow_backend.py:1020: The name tf.assign is deprecated. Please use tf.compat.v1.assign instead.\n",
            "\n",
            "WARNING:tensorflow:From /usr/local/lib/python3.6/dist-packages/keras/backend/tensorflow_backend.py:3005: The name tf.Session is deprecated. Please use tf.compat.v1.Session instead.\n",
            "\n",
            "Epoch 1/50\n",
            "WARNING:tensorflow:From /usr/local/lib/python3.6/dist-packages/keras/backend/tensorflow_backend.py:190: The name tf.get_default_session is deprecated. Please use tf.compat.v1.get_default_session instead.\n",
            "\n",
            "WARNING:tensorflow:From /usr/local/lib/python3.6/dist-packages/keras/backend/tensorflow_backend.py:197: The name tf.ConfigProto is deprecated. Please use tf.compat.v1.ConfigProto instead.\n",
            "\n",
            "WARNING:tensorflow:From /usr/local/lib/python3.6/dist-packages/keras/backend/tensorflow_backend.py:207: The name tf.global_variables is deprecated. Please use tf.compat.v1.global_variables instead.\n",
            "\n",
            "WARNING:tensorflow:From /usr/local/lib/python3.6/dist-packages/keras/backend/tensorflow_backend.py:216: The name tf.is_variable_initialized is deprecated. Please use tf.compat.v1.is_variable_initialized instead.\n",
            "\n",
            "WARNING:tensorflow:From /usr/local/lib/python3.6/dist-packages/keras/backend/tensorflow_backend.py:223: The name tf.variables_initializer is deprecated. Please use tf.compat.v1.variables_initializer instead.\n",
            "\n",
            "500/500 [==============================] - 1s 2ms/step - loss: 0.4463\n",
            "Epoch 2/50\n",
            "500/500 [==============================] - 0s 61us/step - loss: 0.2370\n",
            "Epoch 3/50\n",
            "500/500 [==============================] - 0s 39us/step - loss: 0.2664\n",
            "Epoch 4/50\n",
            "500/500 [==============================] - 0s 58us/step - loss: 0.2271\n",
            "Epoch 5/50\n",
            "500/500 [==============================] - 0s 57us/step - loss: 0.2286\n",
            "Epoch 6/50\n",
            "500/500 [==============================] - 0s 48us/step - loss: 0.2268\n",
            "Epoch 7/50\n",
            "500/500 [==============================] - 0s 47us/step - loss: 0.2202\n",
            "Epoch 8/50\n",
            "500/500 [==============================] - 0s 48us/step - loss: 0.2224\n",
            "Epoch 9/50\n",
            "500/500 [==============================] - 0s 45us/step - loss: 0.2085\n",
            "Epoch 10/50\n",
            "500/500 [==============================] - 0s 44us/step - loss: 0.1926\n",
            "Epoch 11/50\n",
            "500/500 [==============================] - 0s 43us/step - loss: 0.1928\n",
            "Epoch 12/50\n",
            "500/500 [==============================] - 0s 47us/step - loss: 0.1796\n",
            "Epoch 13/50\n",
            "500/500 [==============================] - 0s 49us/step - loss: 0.1700\n",
            "Epoch 14/50\n",
            "500/500 [==============================] - 0s 57us/step - loss: 0.1592\n",
            "Epoch 15/50\n",
            "500/500 [==============================] - 0s 47us/step - loss: 0.1570\n",
            "Epoch 16/50\n",
            "500/500 [==============================] - 0s 48us/step - loss: 0.1458\n",
            "Epoch 17/50\n",
            "500/500 [==============================] - 0s 48us/step - loss: 0.1391\n",
            "Epoch 18/50\n",
            "500/500 [==============================] - 0s 43us/step - loss: 0.1317\n",
            "Epoch 19/50\n",
            "500/500 [==============================] - 0s 44us/step - loss: 0.1226\n",
            "Epoch 20/50\n",
            "500/500 [==============================] - 0s 43us/step - loss: 0.1275\n",
            "Epoch 21/50\n",
            "500/500 [==============================] - 0s 62us/step - loss: 0.1180\n",
            "Epoch 22/50\n",
            "500/500 [==============================] - 0s 51us/step - loss: 0.1168\n",
            "Epoch 23/50\n",
            "500/500 [==============================] - 0s 46us/step - loss: 0.1180\n",
            "Epoch 24/50\n",
            "500/500 [==============================] - 0s 57us/step - loss: 0.1180\n",
            "Epoch 25/50\n",
            "500/500 [==============================] - 0s 46us/step - loss: 0.1115\n",
            "Epoch 26/50\n",
            "500/500 [==============================] - 0s 47us/step - loss: 0.1079\n",
            "Epoch 27/50\n",
            "500/500 [==============================] - 0s 43us/step - loss: 0.1112\n",
            "Epoch 28/50\n",
            "500/500 [==============================] - 0s 46us/step - loss: 0.1242\n",
            "Epoch 29/50\n",
            "500/500 [==============================] - 0s 46us/step - loss: 0.1235\n",
            "Epoch 30/50\n",
            "500/500 [==============================] - 0s 44us/step - loss: 0.1128\n",
            "Epoch 31/50\n",
            "500/500 [==============================] - 0s 45us/step - loss: 0.1075\n",
            "Epoch 32/50\n",
            "500/500 [==============================] - 0s 46us/step - loss: 0.1144\n",
            "Epoch 33/50\n",
            "500/500 [==============================] - 0s 44us/step - loss: 0.1081\n",
            "Epoch 34/50\n",
            "500/500 [==============================] - 0s 44us/step - loss: 0.1109\n",
            "Epoch 35/50\n",
            "500/500 [==============================] - 0s 45us/step - loss: 0.1045\n",
            "Epoch 36/50\n",
            "500/500 [==============================] - 0s 45us/step - loss: 0.1089\n",
            "Epoch 37/50\n",
            "500/500 [==============================] - 0s 53us/step - loss: 0.1066\n",
            "Epoch 38/50\n",
            "500/500 [==============================] - 0s 45us/step - loss: 0.1053\n",
            "Epoch 39/50\n",
            "500/500 [==============================] - 0s 44us/step - loss: 0.1048\n",
            "Epoch 40/50\n",
            "500/500 [==============================] - 0s 48us/step - loss: 0.1043\n",
            "Epoch 41/50\n",
            "500/500 [==============================] - 0s 42us/step - loss: 0.1156\n",
            "Epoch 42/50\n",
            "500/500 [==============================] - 0s 44us/step - loss: 0.1034\n",
            "Epoch 43/50\n",
            "500/500 [==============================] - 0s 44us/step - loss: 0.1026\n",
            "Epoch 44/50\n",
            "500/500 [==============================] - 0s 44us/step - loss: 0.1053\n",
            "Epoch 45/50\n",
            "500/500 [==============================] - 0s 54us/step - loss: 0.1016\n",
            "Epoch 46/50\n",
            "500/500 [==============================] - 0s 46us/step - loss: 0.1017\n",
            "Epoch 47/50\n",
            "500/500 [==============================] - 0s 43us/step - loss: 0.1128\n",
            "Epoch 48/50\n",
            "500/500 [==============================] - 0s 59us/step - loss: 0.1089\n",
            "Epoch 49/50\n",
            "500/500 [==============================] - 0s 48us/step - loss: 0.1054\n",
            "Epoch 50/50\n",
            "500/500 [==============================] - 0s 55us/step - loss: 0.1086\n"
          ],
          "name": "stdout"
        },
        {
          "output_type": "execute_result",
          "data": {
            "text/plain": [
              "<keras.callbacks.History at 0x7f21ced3c358>"
            ]
          },
          "metadata": {
            "tags": []
          },
          "execution_count": 9
        }
      ]
    },
    {
      "cell_type": "code",
      "metadata": {
        "id": "rR-njHLsszZx",
        "colab_type": "code",
        "colab": {
          "base_uri": "https://localhost:8080/",
          "height": 265
        },
        "outputId": "dbd5ff3a-aaac-4011-8a2c-cefedcc0749c"
      },
      "source": [
        "predictions = model.predict(X)\n",
        "plt.scatter(X, y)\n",
        "plt.plot(X, predictions, 'ro')\n",
        "plt.show()"
      ],
      "execution_count": 12,
      "outputs": [
        {
          "output_type": "display_data",
          "data": {
            "image/png": "[encoded data removed]",
            "text/plain": [
              "<Figure size 432x288 with 1 Axes>"
            ]
          },
          "metadata": {
            "tags": []
          }
        }
      ]
    },
    {
      "cell_type": "code",
      "metadata": {
        "id": "b6xvLbiquuIy",
        "colab_type": "code",
        "colab": {}
      },
      "source": [
        "https://github.com/udacity/self-driving-car-sim"
      ],
      "execution_count": 0,
      "outputs": []
    }
  ]
}